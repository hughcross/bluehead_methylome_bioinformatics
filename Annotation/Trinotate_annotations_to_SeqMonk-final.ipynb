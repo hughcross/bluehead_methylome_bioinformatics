{
 "cells": [
  {
   "cell_type": "markdown",
   "metadata": {},
   "source": [
    "# Get annotations from Trinotate report to modify PASA gff3 file"
   ]
  },
  {
   "cell_type": "code",
   "execution_count": 1,
   "metadata": {},
   "outputs": [],
   "source": [
    "tab1 = open('~/WRASSE/pasaA_annotation/pasaA_trinotate_annotation_report.xls', 'r')"
   ]
  },
  {
   "cell_type": "code",
   "execution_count": 2,
   "metadata": {},
   "outputs": [
    {
     "name": "stdout",
     "output_type": "stream",
     "text": [
      "17051\n",
      "24422\n"
     ]
    }
   ],
   "source": [
    "# dict of dicts\n",
    "zfish = {}\n",
    "tilapia = {}\n",
    "zlist = []\n",
    "tlist = []\n",
    "sprot = {}\n",
    "pfam = {}\n",
    "for line in tab1:\n",
    "    parts = line.split('\\t')\n",
    "    tran = parts[1]\n",
    "    sp = parts[2]\n",
    "    \n",
    "    zp = parts[9]\n",
    "    if zp.startswith('E'):\n",
    "        zpC = zp.split('^')[0]\n",
    "        zfish[tran]=zpC\n",
    "        zlist.append(zpC)\n",
    "    tp = parts[10]\n",
    "    if tp.startswith('E'):\n",
    "        tpC = tp.split('^')[0]\n",
    "        tilapia[tran]=tpC\n",
    "        tlist.append(tpC)\n",
    "    pf = parts[11]\n",
    "    if pf.startswith('P'):\n",
    "        pfam[tran]=pf\n",
    "    if sp.startswith('.'):\n",
    "        continue\n",
    "    else:\n",
    "        spC = sp.split('^')[0]\n",
    "        sprot[tran]=spC\n",
    "    \n",
    "    \n",
    "    \n",
    "    \n",
    "    \n",
    "\n",
    "print(len(zfish))\n",
    "print(len(sprot))\n",
    "tab1.close()"
   ]
  },
  {
   "cell_type": "code",
   "execution_count": 5,
   "metadata": {},
   "outputs": [
    {
     "data": {
      "text/plain": [
       "'ENSDARP00000086301.5'"
      ]
     },
     "execution_count": 5,
     "metadata": {},
     "output_type": "execute_result"
    }
   ],
   "source": [
    "zfish['asmbl_34']"
   ]
  },
  {
   "cell_type": "code",
   "execution_count": 6,
   "metadata": {},
   "outputs": [],
   "source": [
    "# output zlist and tlist to file\n",
    "zout = open('zebrafish_peptides_from_trinotateA.txt','w')\n",
    "tout = open('tilipia_peptides_from_trinotateA.txt','w')\n"
   ]
  },
  {
   "cell_type": "code",
   "execution_count": 7,
   "metadata": {},
   "outputs": [],
   "source": [
    "for z in zlist:\n",
    "    zout.write(z+'\\n')\n",
    "zout.close()"
   ]
  },
  {
   "cell_type": "code",
   "execution_count": 8,
   "metadata": {},
   "outputs": [],
   "source": [
    "for t in tlist:\n",
    "    tout.write(t+'\\n')\n",
    "tout.close()"
   ]
  },
  {
   "cell_type": "markdown",
   "metadata": {},
   "source": [
    "## Output zebrafish gene names and descriptions"
   ]
  },
  {
   "cell_type": "code",
   "execution_count": 10,
   "metadata": {},
   "outputs": [],
   "source": [
    "# first import the descriptions\n",
    "descript_file = open('~/WRASSE/zebrafishA_peptide_gene-name_and_descriptions.txt')"
   ]
  },
  {
   "cell_type": "code",
   "execution_count": 11,
   "metadata": {},
   "outputs": [],
   "source": [
    "descripts = {}\n",
    "geneNames = {} # adding gene name dict for searching later\n",
    "for line in descript_file:\n",
    "    if line.startswith('ensembl'):\n",
    "        continue\n",
    "    else:\n",
    "        line = line.strip('\\n')\n",
    "        parts = line.split('\\t')\n",
    "        ensembl = parts[0]\n",
    "        desc = parts[3]\n",
    "        des1 = desc.split(' [')[0]\n",
    "        des = des1.replace(' ','_').replace(':','-').replace('.','-').replace(';','_').replace(',','_').replace(\"'\",\"\")\n",
    "        descripts[ensembl]=des\n",
    "        genename = parts[2]\n",
    "        geneNames[ensembl]=genename\n",
    "descript_file.close()"
   ]
  },
  {
   "cell_type": "code",
   "execution_count": 13,
   "metadata": {},
   "outputs": [
    {
     "data": {
      "text/plain": [
       "'phosphoglycerate_mutase_1a'"
      ]
     },
     "execution_count": 13,
     "metadata": {},
     "output_type": "execute_result"
    }
   ],
   "source": [
    "descripts['ENSDARP00000006201.7']"
   ]
  },
  {
   "cell_type": "code",
   "execution_count": 14,
   "metadata": {},
   "outputs": [
    {
     "data": {
      "text/plain": [
       "'pgam1a'"
      ]
     },
     "execution_count": 14,
     "metadata": {},
     "output_type": "execute_result"
    }
   ],
   "source": [
    "geneNames['ENSDARP00000006201.7']"
   ]
  },
  {
   "cell_type": "code",
   "execution_count": 15,
   "metadata": {},
   "outputs": [],
   "source": [
    "gff = open('~/WRASSE/pasaA_annotation/bluePasa_1A.assemblies.fasta.transdecoder.genome.gff3')"
   ]
  },
  {
   "cell_type": "code",
   "execution_count": 16,
   "metadata": {},
   "outputs": [],
   "source": [
    "newgff = open('ann_blue_genemaps_with_zebrafish_annotations.gff3','w')"
   ]
  },
  {
   "cell_type": "code",
   "execution_count": 17,
   "metadata": {},
   "outputs": [],
   "source": [
    "# try with modified format, and changing CDS\n",
    "for line in gff:\n",
    "    if line.startswith('\\n'):\n",
    "        continue\n",
    "    else:\n",
    "        line = line.strip('\\n')\n",
    "        parts = line.split('\\t')\n",
    "        genetype = parts[2]\n",
    "        description = parts[8]\n",
    "        if genetype == 'CDS':\n",
    "            assembly = description.split('|')[0][7:]\n",
    "        else:\n",
    "            assembly = description.split('|')[0][3:]\n",
    "        if assembly in zfish:\n",
    "            pepcode = zfish[assembly]\n",
    "            # now add description\n",
    "            if pepcode in descripts:\n",
    "                pep_desc = descripts[pepcode]\n",
    "                gene_name = geneNames[pepcode]\n",
    "                desc_parts = description.split(';')\n",
    "                fullID = desc_parts[0]\n",
    "                id_parts =  fullID.split('|')\n",
    "                idtype = id_parts[1]\n",
    "                idname = id_parts[0]\n",
    "                new_idname = idname.replace(assembly,pep_desc).replace('ID=cds.','ID=')\n",
    "                if genetype == 'CDS':\n",
    "                    new_idtype = idtype+'.cds'\n",
    "                else:\n",
    "                    new_idtype = idtype\n",
    "                # change the subsequent part\n",
    "                parent = desc_parts[1]\n",
    "                newparent = parent.replace(assembly,pep_desc).replace('ORF',gene_name)\n",
    "                if genetype == 'gene':\n",
    "                    \n",
    "                    new_description = new_idname + '|' + new_idtype + ';' + newparent\n",
    "                elif genetype == 'mRNA':\n",
    "                    new_description = new_idname + '|' + new_idtype + ';' + newparent\n",
    "                else:\n",
    "                    new_description = new_idname + '|' + new_idtype + ';' + newparent + ';Name='+gene_name\n",
    "                newline = line.replace(description,new_description) #(assembly,pep_desc).replace('ORF',pepcode)\n",
    "                newgff.write(newline+'\\n')\n",
    "newgff.close()\n",
    "gff.close()"
   ]
  },
  {
   "cell_type": "markdown",
   "metadata": {},
   "source": [
    "## Also produce separate file that has sprot or no annotation"
   ]
  },
  {
   "cell_type": "code",
   "execution_count": 18,
   "metadata": {},
   "outputs": [],
   "source": [
    "gff = open('~/WRASSE/pasaA_annotation/bluePasa_1A.assemblies.fasta.transdecoder.genome.gff3')"
   ]
  },
  {
   "cell_type": "code",
   "execution_count": 19,
   "metadata": {},
   "outputs": [],
   "source": [
    "newgff = open('ann_blue_annotations.gff3','w')"
   ]
  },
  {
   "cell_type": "code",
   "execution_count": 20,
   "metadata": {},
   "outputs": [],
   "source": [
    "# try with modified format, and changing CDS\n",
    "for line in gff:\n",
    "    if line.startswith('\\n'):\n",
    "        continue\n",
    "    else:\n",
    "        line = line.strip('\\n')\n",
    "        parts = line.split('\\t')\n",
    "        genetype = parts[2]\n",
    "        description = parts[8]\n",
    "        if genetype == 'CDS':\n",
    "            assembly = description.split('|')[0][7:]\n",
    "        else:\n",
    "            assembly = description.split('|')[0][3:]\n",
    "        if assembly in sprot:\n",
    "            pepcode = sprot[assembly]\n",
    "            # now add description\n",
    "            #if pepcode in descripts:\n",
    "            #pep_desc = descripts[pepcode]\n",
    "            desc_parts = description.split(';')\n",
    "            fullID = desc_parts[0]\n",
    "            id_parts =  fullID.split('|')\n",
    "            idtype = id_parts[1]\n",
    "            idname = id_parts[0]\n",
    "            new_idname = idname.replace(assembly,pepcode).replace('ID=cds.','ID=')\n",
    "            if genetype == 'CDS':\n",
    "                new_idtype = idtype+'.cds'\n",
    "            else:\n",
    "                new_idtype = idtype\n",
    "            # change the subsequent part\n",
    "            parent = desc_parts[1]\n",
    "            newparent = parent.replace(assembly,pepcode)#.replace('ORF',pepcode)\n",
    "            new_description = new_idname + '|' + new_idtype + ';' + newparent\n",
    "            newline = line.replace(description,new_description) #(assembly,pep_desc).replace('ORF',pepcode)\n",
    "            newgff.write(newline+'\\n')\n",
    "        else:\n",
    "            newgff.write(line+'\\n')\n",
    "newgff.close()\n",
    "gff.close()"
   ]
  },
  {
   "cell_type": "code",
   "execution_count": null,
   "metadata": {},
   "outputs": [],
   "source": []
  }
 ],
 "metadata": {
  "kernelspec": {
   "display_name": "Python (qiime2-2018.6)",
   "language": "python",
   "name": "qiime2-2018.6"
  },
  "language_info": {
   "codemirror_mode": {
    "name": "ipython",
    "version": 3
   },
   "file_extension": ".py",
   "mimetype": "text/x-python",
   "name": "python",
   "nbconvert_exporter": "python",
   "pygments_lexer": "ipython3",
   "version": "3.5.5"
  }
 },
 "nbformat": 4,
 "nbformat_minor": 2
}
