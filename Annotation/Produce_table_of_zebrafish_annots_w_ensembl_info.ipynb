{
 "cells": [
  {
   "cell_type": "markdown",
   "metadata": {},
   "source": [
    "# Link Trinotate annotations and Ensembl data to contig names for transcriptome"
   ]
  },
  {
   "cell_type": "code",
   "execution_count": 1,
   "metadata": {},
   "outputs": [],
   "source": [
    "tab1 = open('~/WRASSE/pasaA_annotation/pasaA_trinotate_annotation_report.xls', 'r')"
   ]
  },
  {
   "cell_type": "code",
   "execution_count": 2,
   "metadata": {},
   "outputs": [
    {
     "name": "stdout",
     "output_type": "stream",
     "text": [
      "17051\n",
      "27062\n",
      "17496\n",
      "28927\n"
     ]
    }
   ],
   "source": [
    "# dict of dicts\n",
    "zfish = {}\n",
    "zfishX = {}\n",
    "zlist = []\n",
    "zlistX = []\n",
    "for line in tab1:\n",
    "    parts = line.split('\\t')\n",
    "    tran = parts[1]\n",
    "    \n",
    "    zpX = parts[7]\n",
    "    \n",
    "    zp = parts[9]\n",
    "    if zp.startswith('E'):\n",
    "        zpC = zp.split('^')[0]\n",
    "        zfish[tran]=zpC\n",
    "        zlist.append(zpC)\n",
    "    if zpX is not '.': #.startswith('E'):\n",
    "        zpCx = zpX.split('^')[0]\n",
    "        zfishX[tran]=zpCx\n",
    "        zlistX.append(zpCx)\n",
    "\n",
    "print(len(zfish))\n",
    "print(len(zfishX))\n",
    "print(len(zlist))\n",
    "print(len(zlistX))\n",
    "tab1.close()"
   ]
  },
  {
   "cell_type": "code",
   "execution_count": 3,
   "metadata": {},
   "outputs": [
    {
     "data": {
      "text/plain": [
       "'ENSDARP00000066269.3'"
      ]
     },
     "execution_count": 3,
     "metadata": {},
     "output_type": "execute_result"
    }
   ],
   "source": [
    "zfish['asmbl_20']"
   ]
  },
  {
   "cell_type": "code",
   "execution_count": 4,
   "metadata": {},
   "outputs": [],
   "source": [
    "zset = set(zlist)\n",
    "zsetX = set(zlistX)"
   ]
  },
  {
   "cell_type": "code",
   "execution_count": 5,
   "metadata": {},
   "outputs": [],
   "source": [
    "zsetDiff = zsetX - zset"
   ]
  },
  {
   "cell_type": "code",
   "execution_count": 6,
   "metadata": {},
   "outputs": [
    {
     "data": {
      "text/plain": [
       "4579"
      ]
     },
     "execution_count": 6,
     "metadata": {},
     "output_type": "execute_result"
    }
   ],
   "source": [
    "len(zsetDiff)"
   ]
  },
  {
   "cell_type": "code",
   "execution_count": 7,
   "metadata": {},
   "outputs": [],
   "source": [
    "zsetDiffX = zset - zsetX"
   ]
  },
  {
   "cell_type": "code",
   "execution_count": 8,
   "metadata": {},
   "outputs": [
    {
     "data": {
      "text/plain": [
       "862"
      ]
     },
     "execution_count": 8,
     "metadata": {},
     "output_type": "execute_result"
    }
   ],
   "source": [
    "len(zsetDiffX)"
   ]
  },
  {
   "cell_type": "code",
   "execution_count": 9,
   "metadata": {},
   "outputs": [
    {
     "name": "stdout",
     "output_type": "stream",
     "text": [
      "14091\n",
      "17808\n"
     ]
    }
   ],
   "source": [
    "print(len(zset))\n",
    "print(len(zsetX))"
   ]
  },
  {
   "cell_type": "code",
   "execution_count": 10,
   "metadata": {},
   "outputs": [
    {
     "name": "stdout",
     "output_type": "stream",
     "text": [
      "18670\n"
     ]
    }
   ],
   "source": [
    "fullz = zset | zsetX\n",
    "print(len(fullz))"
   ]
  },
  {
   "cell_type": "code",
   "execution_count": 11,
   "metadata": {},
   "outputs": [
    {
     "name": "stdout",
     "output_type": "stream",
     "text": [
      "asmbl_34\n"
     ]
    }
   ],
   "source": [
    "zfish_asmblP = list(zfish)\n",
    "print(zfish_asmblP[0])"
   ]
  },
  {
   "cell_type": "markdown",
   "metadata": {},
   "source": [
    "## Match asmbl name to transcriptome contig name"
   ]
  },
  {
   "cell_type": "code",
   "execution_count": 12,
   "metadata": {},
   "outputs": [],
   "source": [
    "contig_map = open('~/WRASSE/pasaA_annotation/bluePasa_1A.pasa_assemblies_described.txt')"
   ]
  },
  {
   "cell_type": "code",
   "execution_count": 13,
   "metadata": {},
   "outputs": [
    {
     "name": "stdout",
     "output_type": "stream",
     "text": [
      "197538\n"
     ]
    }
   ],
   "source": [
    "contigs = {}\n",
    "for line in contig_map:\n",
    "    if line.startswith('#'):\n",
    "        continue\n",
    "    else:\n",
    "        parts = line.split('\\t')\n",
    "        asmbl = parts[2]\n",
    "        contig = parts[3]\n",
    "        if ',' in contig: # indicates more than one\n",
    "            contig_ls = contig.split(',')\n",
    "            for cn in contig_ls:\n",
    "                contigs[cn]=asmbl\n",
    "        else:\n",
    "            contigs[contig]=asmbl\n",
    "\n",
    "print(len(contigs))\n",
    "contig_map.close()"
   ]
  },
  {
   "cell_type": "code",
   "execution_count": 36,
   "metadata": {},
   "outputs": [
    {
     "data": {
      "text/plain": [
       "'asmbl_34'"
      ]
     },
     "execution_count": 36,
     "metadata": {},
     "output_type": "execute_result"
    }
   ],
   "source": [
    "# now can link across contig, asmbl, and peptide\n",
    "contigs['c34423_g1_i1']"
   ]
  },
  {
   "cell_type": "code",
   "execution_count": 23,
   "metadata": {},
   "outputs": [
    {
     "data": {
      "text/plain": [
       "'ENSDARP00000086301.5'"
      ]
     },
     "execution_count": 23,
     "metadata": {},
     "output_type": "execute_result"
    }
   ],
   "source": [
    "zfishX['asmbl_34']"
   ]
  },
  {
   "cell_type": "markdown",
   "metadata": {},
   "source": [
    "## Import biomart file, and link peptides to gene"
   ]
  },
  {
   "cell_type": "code",
   "execution_count": 16,
   "metadata": {},
   "outputs": [],
   "source": [
    "biomart = open('~/WRASSE/Anns_zebrafish_peptide_gene_descriptions.txt')"
   ]
  },
  {
   "cell_type": "code",
   "execution_count": 17,
   "metadata": {},
   "outputs": [
    {
     "name": "stdout",
     "output_type": "stream",
     "text": [
      "14245\n"
     ]
    }
   ],
   "source": [
    "pep2gene = {}\n",
    "gene2descr = {}\n",
    "for line in biomart:\n",
    "    if line.startswith('#'):\n",
    "        continue\n",
    "    else:\n",
    "        line = line.strip('\\n')\n",
    "        parts = line.split('\\t')\n",
    "        pep = parts[0]\n",
    "        gene = parts[1]\n",
    "        descr = parts[2]\n",
    "        pep2gene[pep]=gene\n",
    "        gene2descr[gene]=descr\n",
    "        \n",
    "print(len(pep2gene))\n",
    "biomart.close()"
   ]
  },
  {
   "cell_type": "markdown",
   "metadata": {},
   "source": [
    "Now need to modify matrix and output those with annotation\n",
    "\n",
    "**first**, though, check old annotation for those thrown out of PASA analysis"
   ]
  },
  {
   "cell_type": "markdown",
   "metadata": {},
   "source": [
    "## Incorporate previous annotations"
   ]
  },
  {
   "cell_type": "code",
   "execution_count": 18,
   "metadata": {},
   "outputs": [],
   "source": [
    "eta_file = open('~/WRASSE/ericas_transcript_annotations_edited.txt')"
   ]
  },
  {
   "cell_type": "code",
   "execution_count": 19,
   "metadata": {},
   "outputs": [
    {
     "name": "stdout",
     "output_type": "stream",
     "text": [
      "41257\n",
      "21273\n"
     ]
    }
   ],
   "source": [
    "eta_genes = {}\n",
    "eta_desc = {}\n",
    "for line in eta_file:\n",
    "    if line.startswith('>Contig_ID'):\n",
    "        continue\n",
    "    else:\n",
    "        parts = line.split('\\t')\n",
    "        contig = parts[0]\n",
    "        zID = parts[4]\n",
    "        zDescr = parts[5]\n",
    "        if zID == '':\n",
    "            continue\n",
    "        else:\n",
    "            eta_genes[contig]=zID\n",
    "            eta_desc[zID]=zDescr\n",
    "\n",
    "print(len(eta_genes))\n",
    "print(len(eta_desc))\n",
    "eta_file.close()"
   ]
  },
  {
   "cell_type": "code",
   "execution_count": 31,
   "metadata": {},
   "outputs": [
    {
     "data": {
      "text/plain": [
       "'ENSDARP00000111713'"
      ]
     },
     "execution_count": 31,
     "metadata": {},
     "output_type": "execute_result"
    }
   ],
   "source": [
    "eta_genes['c154918_g1_i1_split_1']"
   ]
  },
  {
   "cell_type": "code",
   "execution_count": 35,
   "metadata": {},
   "outputs": [
    {
     "data": {
      "text/plain": [
       "'doublesex and mab-3 related transcription factor 1 [Source:ZFIN;Acc:ZDB-GENE-050511-1]'"
      ]
     },
     "execution_count": 35,
     "metadata": {},
     "output_type": "execute_result"
    }
   ],
   "source": [
    "eta_desc['ENSDARP00000111713']"
   ]
  },
  {
   "cell_type": "code",
   "execution_count": 27,
   "metadata": {},
   "outputs": [],
   "source": [
    "# Change previously modified contig names\n",
    "# c234180_g1_i1 = c154918_g1_i1_split_2\n",
    "# c154918_g1_i1 = c154918_g1_i1_split_1\n",
    "# c69648_g1_i1 = c69648_g1_i1-a\n",
    "# c234181_g1_i1 = c69648_g1_i1-b\n",
    "oldNames = {'c154918_g1_i1_split_1':'c154918_g1_i1','c154918_g1_i1_split_2':'c234180_g1_i1','c69648_g1_i1-a':'c69648_g1_i1','c69648_g1_i1-b':'c234181_g1_i1','kissr1-melissa':'c234179_g1_i1'}"
   ]
  },
  {
   "cell_type": "code",
   "execution_count": 32,
   "metadata": {},
   "outputs": [],
   "source": [
    "contigListFile = open('eta_contig_list.txt')"
   ]
  },
  {
   "cell_type": "code",
   "execution_count": 33,
   "metadata": {},
   "outputs": [
    {
     "name": "stdout",
     "output_type": "stream",
     "text": [
      "230626\n"
     ]
    }
   ],
   "source": [
    "contigList = [] # create annotations for all genes\n",
    "for line in contigListFile:\n",
    "    line = line.strip('\\n')\n",
    "    \n",
    "    contigList.append(line)\n",
    "print(len(contigList))\n",
    "contigListFile.close()"
   ]
  },
  {
   "cell_type": "code",
   "execution_count": 34,
   "metadata": {},
   "outputs": [
    {
     "data": {
      "text/plain": [
       "False"
      ]
     },
     "execution_count": 34,
     "metadata": {},
     "output_type": "execute_result"
    }
   ],
   "source": [
    "'c154918_g1_i1' in contigList"
   ]
  },
  {
   "cell_type": "code",
   "execution_count": 50,
   "metadata": {},
   "outputs": [
    {
     "name": "stdout",
     "output_type": "stream",
     "text": [
      "44482\n",
      "10334\n",
      "44482\n"
     ]
    }
   ],
   "source": [
    "# make final isoform annotations dictionary\n",
    "IsoformAnnots = {} # combined with all possible \n",
    "missingPeps = []\n",
    "cwa1 = []\n",
    "for con in contigList:\n",
    "    if con in contigs:\n",
    "        asmbl = contigs[con]\n",
    "        if asmbl in zfishX:\n",
    "            pep = zfishX[asmbl]\n",
    "        elif asmbl in zfish:\n",
    "            pep = zfish[asmbl]\n",
    "        else:\n",
    "            pep = 'NONE'\n",
    "            geneID = 'NONE'\n",
    "            \n",
    "        if pep is not 'NONE':\n",
    "            if pep in pep2gene:\n",
    "                geneID = pep2gene[pep]\n",
    "                descr1 = gene2descr[geneID]\n",
    "                descr = descr1.split(' [')[0]\n",
    "            else:\n",
    "                missingPeps.append(pep)\n",
    "        \n",
    "    else:\n",
    "        if con in eta_genes:\n",
    "            geneID = eta_genes[con]\n",
    "            descr1 = eta_desc[geneID]\n",
    "            descr = descr1.split(' [')[0]\n",
    "            \n",
    "        else:\n",
    "            geneID = 'NONE'\n",
    "    if geneID is not 'NONE':\n",
    "        IsoformAnnots.setdefault(con, {})['name']=geneID\n",
    "        IsoformAnnots.setdefault(con, {})['description']=descr\n",
    "        cwa1.append(con)\n",
    "print(len(IsoformAnnots))\n",
    "print(len(missingPeps))\n",
    "print(len(cwa1))"
   ]
  },
  {
   "cell_type": "code",
   "execution_count": 51,
   "metadata": {},
   "outputs": [
    {
     "name": "stdout",
     "output_type": "stream",
     "text": [
      "4156\n",
      "ENSDARP00000079716.5\n"
     ]
    }
   ],
   "source": [
    "missingSet = set(missingPeps)\n",
    "print(len(missingSet))\n",
    "print(missingPeps[0])"
   ]
  },
  {
   "cell_type": "code",
   "execution_count": 52,
   "metadata": {},
   "outputs": [
    {
     "name": "stdout",
     "output_type": "stream",
     "text": [
      "44482\n"
     ]
    }
   ],
   "source": [
    "#IsoformAnnots\n",
    "# correcting IsoformAnnots\n",
    "for k,v in oldNames.items():\n",
    "    if k in IsoformAnnots:\n",
    "        IsoformAnnots[v] = IsoformAnnots[k]\n",
    "        del IsoformAnnots[k]\n",
    "print(len(IsoformAnnots))"
   ]
  },
  {
   "cell_type": "code",
   "execution_count": 53,
   "metadata": {},
   "outputs": [
    {
     "data": {
      "text/plain": [
       "{'description': 'doublesex and mab-3 related transcription factor 1',\n",
       " 'name': 'ENSDARG00000007349'}"
      ]
     },
     "execution_count": 53,
     "metadata": {},
     "output_type": "execute_result"
    }
   ],
   "source": [
    "IsoformAnnots['c154918_g1_i1']"
   ]
  },
  {
   "cell_type": "code",
   "execution_count": 54,
   "metadata": {},
   "outputs": [
    {
     "name": "stdout",
     "output_type": "stream",
     "text": [
      "44482\n"
     ]
    }
   ],
   "source": [
    "cwa = []\n",
    "for c in cwa1:\n",
    "    if c in oldNames:\n",
    "        c = oldNames[c]\n",
    "    cwa.append(c)\n",
    "print(len(cwa))"
   ]
  },
  {
   "cell_type": "markdown",
   "metadata": {},
   "source": [
    "## Output Zebrafish annotations to table"
   ]
  },
  {
   "cell_type": "code",
   "execution_count": 60,
   "metadata": {},
   "outputs": [],
   "source": [
    "isoAnnotOut = open('Anns_Isoform_zebrafish_annotations','w')"
   ]
  },
  {
   "cell_type": "code",
   "execution_count": 61,
   "metadata": {},
   "outputs": [
    {
     "data": {
      "text/plain": [
       "36"
      ]
     },
     "execution_count": 61,
     "metadata": {},
     "output_type": "execute_result"
    }
   ],
   "source": [
    "isoAnnotOut.write('contig\\tZfish_gene\\tZfish_description\\n')"
   ]
  },
  {
   "cell_type": "code",
   "execution_count": 62,
   "metadata": {},
   "outputs": [],
   "source": [
    "for con in cwa:\n",
    "    sprotD = IsoformAnnots[con]\n",
    "    isoAnnotOut.write(con+'\\t'+sprotD['name']+'\\t'+sprotD['description']+'\\n')\n",
    "isoAnnotOut.close()"
   ]
  },
  {
   "cell_type": "markdown",
   "metadata": {},
   "source": [
    "## Create Gene-only set"
   ]
  },
  {
   "cell_type": "code",
   "execution_count": 63,
   "metadata": {},
   "outputs": [
    {
     "data": {
      "text/plain": [
       "44482"
      ]
     },
     "execution_count": 63,
     "metadata": {},
     "output_type": "execute_result"
    }
   ],
   "source": [
    "len(cwa)"
   ]
  },
  {
   "cell_type": "code",
   "execution_count": 64,
   "metadata": {},
   "outputs": [
    {
     "name": "stdout",
     "output_type": "stream",
     "text": [
      "44406\n"
     ]
    }
   ],
   "source": [
    "GenesIso = {}\n",
    "\n",
    "for con in cwa:\n",
    "    geneParts = con.split('_')\n",
    "    gene = '_'.join(geneParts[:-1])\n",
    "    GenesIso.setdefault(gene, []).append(con)\n",
    "print(len(GenesIso))"
   ]
  },
  {
   "cell_type": "code",
   "execution_count": 65,
   "metadata": {},
   "outputs": [
    {
     "name": "stdout",
     "output_type": "stream",
     "text": [
      "54\n",
      "8\n"
     ]
    }
   ],
   "source": [
    "multiAnnots = []\n",
    "multis = []\n",
    "for k,v in GenesIso.items():\n",
    "    if len(v) > 1:\n",
    "        multis.append(k)\n",
    "        annotls = []\n",
    "        for iso in v:\n",
    "            ann = IsoformAnnots[iso]['name']\n",
    "            annotls.append(ann)\n",
    "        annset = set(annotls)\n",
    "        if len(annset) > 1:\n",
    "            multiAnnots.append(k)\n",
    "print(len(multis))\n",
    "print(len(multiAnnots))"
   ]
  },
  {
   "cell_type": "code",
   "execution_count": 66,
   "metadata": {},
   "outputs": [
    {
     "data": {
      "text/plain": [
       "['c110294_g1',\n",
       " 'c123938_g1',\n",
       " 'c151266_g1',\n",
       " 'c29034_g1',\n",
       " 'c5120_g1',\n",
       " 'c70023_g2',\n",
       " 'c7027_g1',\n",
       " 'c76790_g1']"
      ]
     },
     "execution_count": 66,
     "metadata": {},
     "output_type": "execute_result"
    }
   ],
   "source": [
    "multiAnnots"
   ]
  },
  {
   "cell_type": "code",
   "execution_count": null,
   "metadata": {},
   "outputs": [],
   "source": [
    "# c29034_g1\n",
    "# c70023_g2\n",
    "# None are different or without consequence (e.g. both unknown genes)"
   ]
  },
  {
   "cell_type": "code",
   "execution_count": 67,
   "metadata": {},
   "outputs": [
    {
     "name": "stdout",
     "output_type": "stream",
     "text": [
      "44406\n",
      "44406\n"
     ]
    }
   ],
   "source": [
    "GeneAnnots = {}\n",
    "genelist = []\n",
    "for con in cwa:\n",
    "\n",
    "    geneparts = con.split('_')\n",
    "    gene = '_'.join(geneparts[:-1])\n",
    "    if gene not in genelist: # this adds to time\n",
    "        genelist.append(gene)\n",
    "    GeneAnnots[gene]=IsoformAnnots[con]\n",
    "    \n",
    "print(len(GeneAnnots))\n",
    "print(len(genelist))"
   ]
  },
  {
   "cell_type": "code",
   "execution_count": 68,
   "metadata": {},
   "outputs": [
    {
     "data": {
      "text/plain": [
       "{'description': 'doublesex and mab-3 related transcription factor 1',\n",
       " 'name': 'ENSDARG00000007349'}"
      ]
     },
     "execution_count": 68,
     "metadata": {},
     "output_type": "execute_result"
    }
   ],
   "source": [
    "GeneAnnots['c234180_g1']"
   ]
  },
  {
   "cell_type": "markdown",
   "metadata": {},
   "source": [
    "## Output Gene Annotations to file"
   ]
  },
  {
   "cell_type": "code",
   "execution_count": 69,
   "metadata": {},
   "outputs": [],
   "source": [
    "geneAnnotOut = open('Anns_Gene_zebrafish_annotations','w')"
   ]
  },
  {
   "cell_type": "code",
   "execution_count": 70,
   "metadata": {},
   "outputs": [
    {
     "data": {
      "text/plain": [
       "34"
      ]
     },
     "execution_count": 70,
     "metadata": {},
     "output_type": "execute_result"
    }
   ],
   "source": [
    "geneAnnotOut.write('gene\\tzfish_name\\tzfish_description\\n')"
   ]
  },
  {
   "cell_type": "code",
   "execution_count": 71,
   "metadata": {},
   "outputs": [],
   "source": [
    "for g in genelist:\n",
    "    sprotD = GeneAnnots[g]\n",
    "    geneAnnotOut.write(g+'\\t'+sprotD['name']+'\\t'+sprotD['description']+'\\n')\n",
    "\n",
    "geneAnnotOut.close()\n",
    "    "
   ]
  },
  {
   "cell_type": "code",
   "execution_count": null,
   "metadata": {},
   "outputs": [],
   "source": []
  }
 ],
 "metadata": {
  "kernelspec": {
   "display_name": "Python (qiime2-2018.6)",
   "language": "python",
   "name": "qiime2-2018.6"
  },
  "language_info": {
   "codemirror_mode": {
    "name": "ipython",
    "version": 3
   },
   "file_extension": ".py",
   "mimetype": "text/x-python",
   "name": "python",
   "nbconvert_exporter": "python",
   "pygments_lexer": "ipython3",
   "version": "3.5.5"
  }
 },
 "nbformat": 4,
 "nbformat_minor": 2
}
